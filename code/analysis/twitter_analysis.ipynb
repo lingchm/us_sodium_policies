{
 "cells": [
  {
   "cell_type": "markdown",
   "metadata": {
    "id": "-H8e71htAJT2"
   },
   "source": [
    "# Setups"
   ]
  },
  {
   "cell_type": "code",
   "execution_count": 2,
   "metadata": {
    "id": "qseGDHNv_4rT"
   },
   "outputs": [],
   "source": [
    "import os"
   ]
  },
  {
   "cell_type": "code",
   "execution_count": 3,
   "metadata": {
    "id": "Fikk6bQrJ_8X"
   },
   "outputs": [],
   "source": [
    "import pandas as pd\n",
    "import numpy as np\n",
    "from matplotlib import pyplot as plt\n",
    "from wordcloud import WordCloud\n",
    "import datetime"
   ]
  },
  {
   "cell_type": "code",
   "execution_count": 4,
   "metadata": {},
   "outputs": [],
   "source": [
    "os.chdir(\"/Users/lingchm/Documents/Github/us_sodium_policies\")"
   ]
  },
  {
   "cell_type": "markdown",
   "metadata": {
    "id": "-4oJSg_AGv2N"
   },
   "source": [
    "# Data Collection"
   ]
  },
  {
   "cell_type": "code",
   "execution_count": 5,
   "metadata": {
    "id": "GZBVtMpVGxId"
   },
   "outputs": [],
   "source": [
    "# 1. Search tweets by username lookup\n",
    "# full_archive_search.py"
   ]
  },
  {
   "cell_type": "code",
   "execution_count": 6,
   "metadata": {
    "id": "C-1tMFooG153"
   },
   "outputs": [],
   "source": [
    "# 2. Get usernames of the tweet that this user replied to: \n",
    "# user_lookup.py (in_reply_to_user)"
   ]
  },
  {
   "cell_type": "code",
   "execution_count": 7,
   "metadata": {
    "id": "H4ttQvySG8xj"
   },
   "outputs": [],
   "source": [
    "# 3. Get usernames of the tweet that this user retweeted (references):\n",
    "# "
   ]
  },
  {
   "cell_type": "code",
   "execution_count": 8,
   "metadata": {
    "id": "fygY6kXyG8mD"
   },
   "outputs": [],
   "source": [
    "# 4. Get usernames of the users that this user liked "
   ]
  },
  {
   "cell_type": "markdown",
   "metadata": {
    "id": "CkG8RRkt1zLD"
   },
   "source": [
    "# Functions"
   ]
  },
  {
   "cell_type": "code",
   "execution_count": 9,
   "metadata": {
    "id": "NU8HiU8J1wo6"
   },
   "outputs": [],
   "source": [
    "def plot_counts(df_grouped_year, by=\"year\", columns=['interactions_total','interactions_sodium'],\n",
    "                axis_labels=[\"Total number of tweets\",\"Number of sodium tweet interactions\"],\n",
    "                title=\"Tweet interactions for \"):\n",
    "    # Total tweet counts\n",
    "    fig,ax = plt.subplots(figsize=(10,5))\n",
    "    fontsize=16\n",
    "\n",
    "    # twin object for two different y-axis on the sample plot\n",
    "    t = max(df_grouped_year[columns[1]])\n",
    "    ax.bar(df_grouped_year[by], df_grouped_year[columns[1]],color=\"blue\",alpha=0.8)\n",
    "    #ax2.bar(df_grouped_year.index, df_grouped_year[columns[2]],color=\"green\",\n",
    "    #        bottom = df_grouped_year[columns[1]])\n",
    "    ax.set_ylabel(axis_labels[1], color=\"black\",fontsize=fontsize)\n",
    "    #ax2.set_yticks(np.arange(0, t+5, 2))\n",
    "\n",
    "    # plot of total tweet counts \n",
    "    ax2 = ax.twinx()\n",
    "    ax2.plot(df_grouped_year[by], df_grouped_year[columns[0]], color=\"red\", alpha=0.6)\n",
    "    ax2.set_xlabel(\"date\", fontsize = fontsize)\n",
    "    ax2.set_ylabel(axis_labels[0], color=\"red\", fontsize=fontsize)\n",
    "\n",
    "    plt.title(title, fontsize = fontsize)\n",
    "    plt.show()"
   ]
  },
  {
   "cell_type": "code",
   "execution_count": 10,
   "metadata": {},
   "outputs": [],
   "source": [
    "def plot_counts_YearMonth(df_grouped_year, by=\"YearMonth\", columns=['interactions_total','interactions_sodium'],\n",
    "                axis_labels=[\"Total number of tweets\",\"Number of sodium tweet interactions\"],\n",
    "                title=\"Tweet interactions for \"):\n",
    "    # Total tweet counts\n",
    "    fig,ax = plt.subplots(figsize=(15,5))\n",
    "    fontsize=16\n",
    "\n",
    "    # twin object for two different y-axis on the sample plot\n",
    "    ax.bar(df_grouped_year[by], df_grouped_year[columns[1]],color=\"blue\",alpha=0.8)\n",
    "    ax.set_xlabel(\"date\", fontsize = fontsize)\n",
    "    x = df_grouped_year[by]\n",
    "    ax.set_xticks(x[::4])\n",
    "    ax.set_xticklabels(x[::4], rotation=45)\n",
    "    ax.set_ylabel(axis_labels[1], color=\"black\",fontsize=fontsize)\n",
    "\n",
    "    # plot of total tweet counts \n",
    "    ax2 = ax.twinx()\n",
    "    ax2.plot(df_grouped_year[by], df_grouped_year[columns[0]], color=\"red\", alpha=0.8)\n",
    "    ax2.set_xlabel(\"date\", fontsize = fontsize)\n",
    "    x = df_grouped_year[by]\n",
    "    #ax2.set_xticks(x[::3])\n",
    "    #ax2.set_xticklabels(x[::3], rotation=65)\n",
    "    ax2.set_ylabel(axis_labels[0], color=\"red\", fontsize=fontsize)\n",
    "\n",
    "    plt.title(title, fontsize = fontsize)\n",
    "    plt.show()"
   ]
  },
  {
   "cell_type": "code",
   "execution_count": 11,
   "metadata": {
    "id": "3578LG_j1wmE"
   },
   "outputs": [],
   "source": [
    "def get_wordcloud(df_col, title):\n",
    "    figure_name = plt.figure(figsize=(10,5))\n",
    "    hashtags = []\n",
    "    for lst in df_col.values:\n",
    "        if len(lst) > 2:\n",
    "            t = lst.strip(\"'\").strip(\"['\").strip(\"']\").strip('\"').split(\"', '\")\n",
    "            hashtags.extend(t)\n",
    "          \n",
    "    t = pd.DataFrame()\n",
    "    t['temp'] = hashtags\n",
    "    hashtags = t['temp'].str.cat(sep=' ')\n",
    "    wordcloud = WordCloud(collocations = False, background_color = 'white').generate(hashtags)\n",
    "    plt.imshow(wordcloud, interpolation='bilinear')\n",
    "    plt.axis(\"off\")\n",
    "    plt.title(title)\n",
    "    plt.show()\n",
    "\n",
    "    return hashtags"
   ]
  },
  {
   "cell_type": "code",
   "execution_count": 12,
   "metadata": {
    "id": "EVXJEcZlbQIl"
   },
   "outputs": [],
   "source": [
    "def preprocess_interactions(df):\n",
    "        # get list of mentions\n",
    "        all_mentions = []\n",
    "        for mention in df[~df['mentions'].isnull()]['mentions'].values:\n",
    "            if len(mention) > 2:\n",
    "                all_mentions.extend(mention.strip(\"['\").strip(\"']\").strip('\"').split(\"', '\"))\n",
    "        print(\"   Total mentions:\", len(all_mentions))\n",
    "\n",
    "        # get list of referenced usernames\n",
    "        all_references = []\n",
    "        for reference in df[~df['reference_usernames'].isnull()]['reference_usernames'].values:\n",
    "            if len(reference) > 2:\n",
    "                all_references.extend(reference.strip(\"['\").strip(\"']\").strip('\"').split(\"', '\"))\n",
    "        \n",
    "        print(\"   Total references:\", len(all_references))\n",
    "\n",
    "        # interaction \n",
    "        all_interactions = []\n",
    "        for reply_username in df[~df['reply_username'].isnull()]['reply_username'].values:\n",
    "            all_interactions.append(reply_username)\n",
    "        print(\"   Total replies:\", len(all_interactions))\n",
    "        all_interactions.extend(all_references)\n",
    "        all_interactions.extend(all_mentions)\n",
    "        \n",
    "        return all_interactions"
   ]
  },
  {
   "cell_type": "code",
   "execution_count": 17,
   "metadata": {},
   "outputs": [
    {
     "name": "stdout",
     "output_type": "stream",
     "text": [
      "['pinch of salt', 'dash of salt', 'worth their salt', 'worth his salt', 'worth her salt', 'worth my salt', 'worth your salt', 'grain of salt', 'attic salt', 'eat their salt', 'dose of the salts', 'salt into the wound', 'salt in a woundsalt down', 'salt away', 'salt horse', 'salt of the earth', 'salt the books', 'salt-and-pepper', 'above the salt', 'back to the salt mines', 'below the salt', 'pound salt', 'old salt']\n"
     ]
    }
   ],
   "source": [
    "import re\n",
    "keep = [\"No_added_salt\", \"actiononsalt\", \"soloseasalt\", \"eatlowsodium\", 'lowsodiumfoods', \"sodiumgirl\", \"sodiumhf\"]\n",
    "keep2 = [\n",
    " 'switchthesalt',\n",
    " 'breakupwithsalt',\n",
    " 'escapethesalt',\n",
    " 'hiddensalt',\n",
    " 'noaddedsalt',\n",
    " 'nosaltplease',\n",
    " 'nycsalt',\n",
    " 'reducesalt',\n",
    " 'restrictsalt',\n",
    " 'saltintake',\n",
    " 'saltsubsitute',\n",
    " 'saltsubstitutes',\n",
    " 'saltsugfat',\n",
    " 'saltswitch',\n",
    " 'shakethesalthabit',\n",
    " 'sneakysalt',\n",
    " 'saltweek2018',\n",
    " 'stopsaltstopstroke',\n",
    " 'stopthehiddensalt',\n",
    " 'toomuchsalt',\n",
    " 'uksaltchallenge',\n",
    " 'unsalted',\n",
    " 'spotthesalt',\n",
    "    \n",
    "]\n",
    "# https://idioms.thefreedictionary.com/salt\n",
    "# words containing salt https://www.wordgamehelper.com/words-containing/salt\n",
    "slangs = [\"pinch of salt\", \"dash of salt\",\n",
    "          \"worth their salt\", \"worth his salt\", \"worth her salt\", \"worth my salt\", \"worth your salt\",\n",
    "          \"grain of salt\", \"attic salt\", \n",
    "          \"eat their salt\", \"dose of the salts\", \n",
    "          \"salt into the wound\", \"salt in a wound\"\n",
    "         \"salt down\", \"salt away\", \"salt horse\", \"salt of the earth\", \"salt the books\",\n",
    "         \"salt-and-pepper\", \"above the salt\", \"back to the salt mines\", \n",
    "         \"below the salt\", \"pound salt\", \"old salt\"]\n",
    "print(slangs)\n",
    "\n",
    "def keyword_search(text):\n",
    "    keywords = [\"salt\", \"salty\", \"salted\", \"salts\"]\n",
    "    for keyword in keywords:\n",
    "        if re.search(r\"\\b\" + re.escape(keyword) + r\"\\b\", text):\n",
    "            return True\n",
    "    return False\n",
    "\n",
    "def search_sodium(text):\n",
    "    \n",
    "    text = text.lower()\n",
    "    \n",
    "    # no other english word contain sodium\n",
    "    if \"sodium\" in text:\n",
    "        return 1\n",
    "\n",
    "    # remove slang from \n",
    "    for slang in slangs:\n",
    "        text = text.replace(slang, \"\")\n",
    "\n",
    "    # if contain middle \n",
    "    if (\" salt \" in text) | (\"#salt \" in text):\n",
    "        return 1\n",
    "\n",
    "    # if contain usernames that have sodium \n",
    "    for name in keep:\n",
    "        if name in text:\n",
    "            return 1\n",
    "\n",
    "    # if hashtags \n",
    "    if (\"lesssalt\" in text) | (\"lesssalt\" in text) | (\"lowsalt\" in text) | (\"highsalt\" in text) | (\"saltawareness\" in text) | (\"saltreduction\" in text):\n",
    "        return 1\n",
    "        \n",
    "    for name in keep2:\n",
    "        if name in text:\n",
    "            return 1\n",
    "\n",
    "    if keyword_search(text):\n",
    "        return 1\n",
    "    \n",
    "    return 0\n",
    "    "
   ]
  },
  {
   "cell_type": "markdown",
   "metadata": {
    "id": "Y3KPOx3yJb__"
   },
   "source": [
    "# Aggregate all data"
   ]
  },
  {
   "cell_type": "code",
   "execution_count": 13,
   "metadata": {
    "id": "fpRbpBv8pAGI"
   },
   "outputs": [],
   "source": [
    "usernames = {\"Public agencies\": {\"FDA\": [\"US_FDA\"],\n",
    "                                 \"DC Department of Health\": [\"_DCHealth\"],\n",
    "                                 \"CDC\": [\"CDCgov\",\"CDCDirector\",\"CDCFound\", \"CDC_eHealth\"],\n",
    "                                 \"HHS\": [\"Departmentofh14\", \"MillionHeartsUS\"],\n",
    "                                 \"NYC Department of Health\": [\"nycHealthy\"],\n",
    "                                 \"PHI\": [\"PHIdotorg\"],\n",
    "                                 \"NIH\": [\"NIH\"],\n",
    "                                 \"USDA\": [\"USDA\", \"USDANutrition\", \"TeamNutrition\",\"NationalCACFP\", \"SNAP_Ed\", \"BeAFoodHero\",\"NatWICAssoc\"]\n",
    "                                },\n",
    "                 \"NGO\": {\"Resort to Save Lifes\": [\"ResolveTSL\"]},\n",
    "                 \"Research and evaluation organization\": {\n",
    "                       \"Harvard\": [\"HarvardChanSPH\",\"HarvardHealth\",\"Harvardmed\"],\n",
    "                       \"John Hokpins\": [\"HopkinsMedicine\",\"JohnsHopkinsSPH\"], \n",
    "                       \"Univ. Washington\": [\"uwsph\",\"WUSTLmed\"], \n",
    "                       \"Yale\": [\"YaleSPH\",\"YaleMed\"],\n",
    "                       \"Columbia Univ.\": [\"ColumbiaMSPH\", \"ColumbiaMed\"]},\n",
    "                 \"Experts\": {\n",
    "                     \"Cheryl Anderson\": [\"chanders4\"],\n",
    "                    \"Kirsten Bibbins-Domingo\": [\"KBibbinsDomingo\"],\n",
    "                             \"Lynne T. Braun\":[\"braun_lynne\"],\n",
    "                             \"Mariell Jessup\": [\"jesse8850\"],\n",
    "                             \"Elliott M. Antman\": [\"eantman\"],\n",
    "                             \"Simon Capewell\": [\"SimonCapewell99\"],\n",
    "                             \"Keith C. Ferdinand\": [\"kcferdmd\"],\n",
    "                             \"Christopher Gardner\": [\"GardnerPhD\"],\n",
    "                             \"Michel Joffres\": [\"MichelJoffres\"],\n",
    "                             \"Donald M. Lloyd-Jones\": [\"dmljmd\"],\n",
    "                             \"Dariush Mozaffarian\": [\"Dmozaffarian\"],\n",
    "                             \"Bruce Neal\": [\"BruceNeal1\"],\n",
    "                             \"Ralph L. Sacco\": [\"DrSaccoNeuro\"]},\n",
    "                \"Professional and advocacy assotiations\": {\n",
    "                      \"Monell Center\": [\"MonellSc\"],\n",
    "                      \"ASP Cardio\": [\"ASPCardio\"],\n",
    "                      \"Cardio Nerds\": [\"CardioNerds\"],\n",
    "                      \"AHA\": [\"American_Heart\",\"AHAScience\"], \n",
    "                      \"National Academy of Medicine\": [\"theNAMedicine\"]},\n",
    "                \"International influencers\": {\n",
    "                    \"World Hypertension League\": [\"WorldHyperLeag\"], \n",
    "                    \"World Heart Federation\": [\"worldheartfed\"],\n",
    "                    \"World Action on Salt\": [\"WASHSALT\",\"actiononsalt\"], \n",
    "                    \"WHO\": [\"WHO\"]},\n",
    "                \"Individual influencers\": {\n",
    "                    \"Alan Watson\": [\"DietHeartNews\"],\n",
    "                    \"Healthy Heart Market\": [\"HealthyHeart4u\"],\n",
    "                    \"Health Steps 24/7\": [\"healthstepsonly\"],\n",
    "                    \"Daily Health Tips\": [\"DailyHealthTips\"],\n",
    "                    \"FoodInsight.org\": [\"FoodInsight\"],\n",
    "                    \"Tom Frieden\": [\"DrTomFrieden\"]}\n",
    "}"
   ]
  },
  {
   "cell_type": "code",
   "execution_count": 14,
   "metadata": {},
   "outputs": [
    {
     "name": "stdout",
     "output_type": "stream",
     "text": [
      "total accounts: 60\n",
      "total organizations: 42\n"
     ]
    }
   ],
   "source": [
    "# collect one data of all users \n",
    "usernames_list = []\n",
    "organization_list = []\n",
    "labels = {}\n",
    "\n",
    "for category in usernames.keys():\n",
    "    organization_list.extend(usernames[category].keys())\n",
    "    for organization in usernames[category].keys():\n",
    "        total_usernames += len(usernames[category][organization])\n",
    "        usernames_list.extend(usernames[category][organization])\n",
    "        for username in usernames[category][organization]:\n",
    "            labels[username] = organization\n",
    "            \n",
    "print(\"total accounts:\", len(usernames_list))\n",
    "print(\"total organizations:\", len(organization_list))"
   ]
  },
  {
   "cell_type": "code",
   "execution_count": 20,
   "metadata": {
    "scrolled": true
   },
   "outputs": [
    {
     "name": "stdout",
     "output_type": "stream",
     "text": [
      "US_FDA\n",
      "   Total tweets: 17277                   retweets: 5963 35.0 %\n",
      "   Total tweets related to sodium: 68\n",
      "   Total mentions: 9375\n",
      "   Total references: 8801\n",
      "   Total replies: 2246\n",
      "   Total unique interaction users: 962\n",
      "   Total mentions: 38\n",
      "   Total references: 42\n",
      "   Total replies: 13\n",
      "   Total unique sodium interaction users: 14\n",
      "   Total mentions: 0\n",
      "   Total references: 0\n",
      "   Total replies: 0\n",
      "   Total unique sodium children interaction users: 0\n",
      "_DCHealth\n",
      "   Total tweets: 10435                   retweets: 3998 38.0 %\n",
      "   Total tweets related to sodium: 8\n",
      "   Total mentions: 6439\n",
      "   Total references: 4471\n",
      "   Total replies: 450\n",
      "   Total unique interaction users: 975\n",
      "   Total mentions: 8\n",
      "   Total references: 7\n",
      "   Total replies: 0\n",
      "   Total unique sodium interaction users: 4\n",
      "   Total mentions: 0\n",
      "   Total references: 0\n",
      "   Total replies: 0\n",
      "   Total unique sodium children interaction users: 0\n",
      "CDCgov\n",
      "   Total tweets: 33221                   retweets: 7123 21.0 %\n",
      "   Total tweets related to sodium: 111\n",
      "CDCDirector\n",
      "   Total tweets: 18546                   retweets: 3179 17.0 %\n",
      "   Total tweets related to sodium: 87\n",
      "CDCFound\n",
      "   Total tweets: 9250                   retweets: 5778 62.0 %\n",
      "   Total tweets related to sodium: 11\n",
      "CDC_eHealth\n",
      "   Total tweets: 7430                   retweets: 3262 44.0 %\n",
      "   Total tweets related to sodium: 30\n",
      "   Total mentions: 40935\n",
      "   Total references: 25449\n",
      "   Total replies: 6202\n",
      "   Total unique interaction users: 6789\n",
      "   Total mentions: 128\n",
      "   Total references: 88\n",
      "   Total replies: 16\n",
      "   Total unique sodium interaction users: 54\n",
      "   Total mentions: 16\n",
      "   Total references: 10\n",
      "   Total replies: 2\n",
      "   Total unique sodium children interaction users: 10\n",
      "Departmentofh14\n",
      "   Total tweets: 20                   retweets: 6 30.0 %\n",
      "   Total tweets related to sodium: 0\n",
      "MillionHeartsUS\n",
      "   Total tweets: 8274                   retweets: 1440 17.0 %\n",
      "   Total tweets related to sodium: 575\n",
      "   Total mentions: 4534\n",
      "   Total references: 1475\n",
      "   Total replies: 142\n",
      "   Total unique interaction users: 669\n",
      "   Total mentions: 257\n",
      "   Total references: 84\n",
      "   Total replies: 10\n",
      "   Total unique sodium interaction users: 79\n",
      "   Total mentions: 11\n",
      "   Total references: 5\n",
      "   Total replies: 0\n",
      "   Total unique sodium children interaction users: 5\n",
      "nycHealthy\n",
      "   Total tweets: 35972                   retweets: 7151 20.0 %\n",
      "   Total tweets related to sodium: 313\n",
      "   Total mentions: 15968\n",
      "   Total references: 8344\n",
      "   Total replies: 1724\n",
      "   Total unique interaction users: 3039\n",
      "   Total mentions: 89\n",
      "   Total references: 78\n",
      "   Total replies: 17\n",
      "   Total unique sodium interaction users: 45\n",
      "   Total mentions: 2\n",
      "   Total references: 1\n",
      "   Total replies: 0\n",
      "   Total unique sodium children interaction users: 3\n",
      "PHIdotorg\n",
      "   Total tweets: 23037                   retweets: 4594.0 20.0 %\n",
      "   Total tweets related to sodium: 15\n",
      "   Total mentions: 23312\n",
      "   Total references: 5069\n",
      "   Total replies: 1094\n",
      "   Total unique interaction users: 3891\n",
      "   Total mentions: 62\n",
      "   Total references: 12\n",
      "   Total replies: 0\n",
      "   Total unique sodium interaction users: 15\n",
      "   Total mentions: 0\n",
      "   Total references: 0\n",
      "   Total replies: 0\n",
      "   Total unique sodium children interaction users: 0\n",
      "NIH\n",
      "   Total tweets: 14614                   retweets: 1959 13.0 %\n",
      "   Total tweets related to sodium: 12\n",
      "   Total mentions: 9480\n",
      "   Total references: 3360\n",
      "   Total replies: 1236\n",
      "   Total unique interaction users: 1451\n",
      "   Total mentions: 2\n",
      "   Total references: 3\n",
      "   Total replies: 0\n",
      "   Total unique sodium interaction users: 2\n",
      "   Total mentions: 0\n",
      "   Total references: 0\n",
      "   Total replies: 0\n",
      "   Total unique sodium children interaction users: 0\n",
      "USDA\n",
      "   Total tweets: 21065                   retweets: 6189 29.0 %\n",
      "   Total tweets related to sodium: 18\n",
      "USDANutrition\n",
      "   Total tweets: 20351                   retweets: 6133 30.0 %\n",
      "   Total tweets related to sodium: 85\n",
      "TeamNutrition\n",
      "   Total tweets: 8270                   retweets: 1929 23.0 %\n",
      "   Total tweets related to sodium: 37\n",
      "NationalCACFP\n",
      "   Total tweets: 1873                   retweets: 259 14.0 %\n",
      "   Total tweets related to sodium: 4\n",
      "SNAP_Ed\n",
      "   Total tweets: 2508                   retweets: 392 16.0 %\n",
      "   Total tweets related to sodium: 9\n",
      "BeAFoodHero\n",
      "   Total tweets: 3016                   retweets: 84 3.0 %\n",
      "   Total tweets related to sodium: 6\n",
      "NatWICAssoc\n",
      "   Total tweets: 6630                   retweets: 2635 40.0 %\n",
      "   Total tweets related to sodium: 15\n",
      "   Total mentions: 34905\n",
      "   Total references: 18674\n",
      "   Total replies: 1464\n",
      "   Total unique interaction users: 4771\n",
      "   Total mentions: 126\n",
      "   Total references: 82\n",
      "   Total replies: 4\n",
      "   Total unique sodium interaction users: 45\n",
      "   Total mentions: 12\n",
      "   Total references: 10\n",
      "   Total replies: 0\n",
      "   Total unique sodium children interaction users: 5\n",
      "ResolveTSL\n",
      "   Total tweets: 4082                   retweets: 1651 40.0 %\n",
      "   Total tweets related to sodium: 263\n",
      "   Total mentions: 5042\n",
      "   Total references: 1848\n",
      "   Total replies: 15\n",
      "   Total unique interaction users: 985\n",
      "   Total mentions: 268\n",
      "   Total references: 62\n",
      "   Total replies: 0\n",
      "   Total unique sodium interaction users: 99\n",
      "   Total mentions: 1\n",
      "   Total references: 0\n",
      "   Total replies: 0\n",
      "   Total unique sodium children interaction users: 1\n",
      "HarvardChanSPH\n",
      "   Total tweets: 32655                   retweets: 9238.0 28.0 %\n",
      "   Total tweets related to sodium: 131\n",
      "HarvardHealth\n",
      "   Total tweets: 13986                   retweets: 970 7.0 %\n",
      "   Total tweets related to sodium: 57\n",
      "Harvardmed\n",
      "   Total tweets: 16510                   retweets: 2017 12.0 %\n",
      "   Total tweets related to sodium: 5\n",
      "   Total mentions: 44529\n",
      "   Total references: 12641\n",
      "   Total replies: 1663\n",
      "   Total unique interaction users: 6007\n",
      "   Total mentions: 97\n",
      "   Total references: 26\n",
      "   Total replies: 3\n",
      "   Total unique sodium interaction users: 38\n",
      "   Total mentions: 2\n",
      "   Total references: 0\n",
      "   Total replies: 0\n",
      "   Total unique sodium children interaction users: 2\n",
      "HopkinsMedicine\n",
      "   Total tweets: 79662                   retweets: 5909.0 7.0 %\n",
      "   Total tweets related to sodium: 39\n",
      "JohnsHopkinsSPH\n",
      "   Total tweets: 33769                   retweets: 9637.0 29.0 %\n",
      "   Total tweets related to sodium: 26\n",
      "   Total mentions: 61577\n",
      "   Total references: 19273\n",
      "   Total replies: 4010\n",
      "   Total unique interaction users: 9319\n",
      "   Total mentions: 41\n",
      "   Total references: 3\n",
      "   Total replies: 0\n",
      "   Total unique sodium interaction users: 31\n",
      "   Total mentions: 0\n",
      "   Total references: 0\n",
      "   Total replies: 0\n",
      "   Total unique sodium children interaction users: 0\n",
      "uwsph\n",
      "   Total tweets: 13531                   retweets: 3437 25.0 %\n",
      "   Total tweets related to sodium: 12\n",
      "WUSTLmed\n",
      "   Total tweets: 9116                   retweets: 1168 13.0 %\n",
      "   Total tweets related to sodium: 1\n",
      "   Total mentions: 21217\n",
      "   Total references: 5879\n",
      "   Total replies: 983\n",
      "   Total unique interaction users: 3833\n",
      "   Total mentions: 11\n",
      "   Total references: 0\n",
      "   Total replies: 0\n",
      "   Total unique sodium interaction users: 10\n",
      "   Total mentions: 2\n",
      "   Total references: 0\n",
      "   Total replies: 0\n",
      "   Total unique sodium children interaction users: 2\n",
      "YaleSPH\n",
      "   Total tweets: 12547                   retweets: 3774.0 30.0 %\n",
      "   Total tweets related to sodium: 10\n",
      "YaleMed\n",
      "   Total tweets: 14300                   retweets: 9372 66.0 %\n",
      "   Total tweets related to sodium: 10\n",
      "   Total mentions: 37836\n",
      "   Total references: 13396\n",
      "   Total replies: 737\n",
      "   Total unique interaction users: 5522\n",
      "   Total mentions: 16\n",
      "   Total references: 8\n",
      "   Total replies: 0\n",
      "   Total unique sodium interaction users: 13\n",
      "   Total mentions: 0\n",
      "   Total references: 0\n",
      "   Total replies: 0\n",
      "   Total unique sodium children interaction users: 0\n",
      "ColumbiaMSPH\n",
      "   Total tweets: 18805                   retweets: 2847 15.0 %\n",
      "   Total tweets related to sodium: 22\n",
      "ColumbiaMed\n",
      "   Total tweets: 7818                   retweets: 2226 28.0 %\n",
      "   Total tweets related to sodium: 10\n",
      "   Total mentions: 26355\n",
      "   Total references: 5568\n",
      "   Total replies: 1053\n",
      "   Total unique interaction users: 4164\n",
      "   Total mentions: 29\n",
      "   Total references: 5\n",
      "   Total replies: 2\n",
      "   Total unique sodium interaction users: 24\n",
      "   Total mentions: 0\n",
      "   Total references: 0\n",
      "   Total replies: 0\n",
      "   Total unique sodium children interaction users: 0\n",
      "chanders4\n",
      "   Total tweets: 277                   retweets: 56 20.0 %\n",
      "   Total tweets related to sodium: 3\n",
      "   Total mentions: 756\n",
      "   Total references: 176\n",
      "   Total replies: 72\n",
      "   Total unique interaction users: 377\n",
      "   Total mentions: 10\n",
      "   Total references: 3\n",
      "   Total replies: 1\n",
      "   Total unique sodium interaction users: 9\n",
      "   Total mentions: 0\n",
      "   Total references: 0\n",
      "   Total replies: 0\n",
      "   Total unique sodium children interaction users: 0\n"
     ]
    },
    {
     "name": "stdout",
     "output_type": "stream",
     "text": [
      "KBibbinsDomingo\n",
      "   Total tweets: 23234                   retweets: 17427 75.0 %\n",
      "   Total tweets related to sodium: 47\n",
      "   Total mentions: 36281\n",
      "   Total references: 19841\n",
      "   Total replies: 1081\n",
      "   Total unique interaction users: 7070\n",
      "   Total mentions: 80\n",
      "   Total references: 45\n",
      "   Total replies: 3\n",
      "   Total unique sodium interaction users: 61\n",
      "   Total mentions: 1\n",
      "   Total references: 1\n",
      "   Total replies: 0\n",
      "   Total unique sodium children interaction users: 1\n",
      "braun_lynne\n",
      "   Total tweets: 4675                   retweets: 1287 28.0 %\n",
      "   Total tweets related to sodium: 11\n",
      "   Total mentions: 12690\n",
      "   Total references: 3197\n",
      "   Total replies: 516\n",
      "   Total unique interaction users: 1438\n",
      "   Total mentions: 20\n",
      "   Total references: 6\n",
      "   Total replies: 0\n",
      "   Total unique sodium interaction users: 19\n",
      "   Total mentions: 2\n",
      "   Total references: 1\n",
      "   Total replies: 0\n",
      "   Total unique sodium children interaction users: 3\n",
      "jesse8850\n",
      "   Total tweets: 2712                   retweets: 1862.0 69.0 %\n",
      "   Total tweets related to sodium: 13\n",
      "   Total mentions: 2911\n",
      "   Total references: 2315\n",
      "   Total replies: 51\n",
      "   Total unique interaction users: 1266\n",
      "   Total mentions: 14\n",
      "   Total references: 12\n",
      "   Total replies: 0\n",
      "   Total unique sodium interaction users: 12\n",
      "   Total mentions: 0\n",
      "   Total references: 0\n",
      "   Total replies: 0\n",
      "   Total unique sodium children interaction users: 0\n",
      "eantman\n",
      "   Total tweets: 34                   retweets: 15 44.0 %\n",
      "   Total tweets related to sodium: 1\n",
      "   Total mentions: 48\n",
      "   Total references: 18\n",
      "   Total replies: 3\n",
      "   Total unique interaction users: 38\n",
      "   Total mentions: 2\n",
      "   Total references: 0\n",
      "   Total replies: 0\n",
      "   Total unique sodium interaction users: 2\n",
      "   Total mentions: 0\n",
      "   Total references: 0\n",
      "   Total replies: 0\n",
      "   Total unique sodium children interaction users: 0\n"
     ]
    },
    {
     "name": "stderr",
     "output_type": "stream",
     "text": [
      "/Users/lingchm/opt/anaconda3/lib/python3.7/site-packages/IPython/core/interactiveshell.py:3331: DtypeWarning: Columns (1,8,10) have mixed types.Specify dtype option on import or set low_memory=False.\n",
      "  exec(code_obj, self.user_global_ns, self.user_ns)\n"
     ]
    },
    {
     "name": "stdout",
     "output_type": "stream",
     "text": [
      "SimonCapewell99\n",
      "   Total tweets: 99867                   retweets: 69385.0 69.0 %\n",
      "   Total tweets related to sodium: 463\n",
      "   Total mentions: 125625\n",
      "   Total references: 76431\n",
      "   Total replies: 673\n",
      "   Total unique interaction users: 19825\n",
      "   Total mentions: 741\n",
      "   Total references: 407\n",
      "   Total replies: 7\n",
      "   Total unique sodium interaction users: 277\n",
      "   Total mentions: 18\n",
      "   Total references: 17\n",
      "   Total replies: 0\n",
      "   Total unique sodium children interaction users: 15\n",
      "kcferdmd\n",
      "   Total tweets: 125                   retweets: 35 28.0 %\n",
      "   Total tweets related to sodium: 0\n",
      "   Total mentions: 198\n",
      "   Total references: 83\n",
      "   Total replies: 8\n",
      "   Total unique interaction users: 98\n",
      "   Total mentions: 0\n",
      "   Total references: 0\n",
      "   Total replies: 0\n",
      "   Total unique sodium interaction users: 0\n",
      "   Total mentions: 0\n",
      "   Total references: 0\n",
      "   Total replies: 0\n",
      "   Total unique sodium children interaction users: 0\n",
      "GardnerPhD\n",
      "   Total tweets: 913                   retweets: 26 3.0 %\n",
      "   Total tweets related to sodium: 4\n",
      "   Total mentions: 866\n",
      "   Total references: 619\n",
      "   Total replies: 106\n",
      "   Total unique interaction users: 382\n",
      "   Total mentions: 3\n",
      "   Total references: 3\n",
      "   Total replies: 0\n",
      "   Total unique sodium interaction users: 5\n",
      "   Total mentions: 0\n",
      "   Total references: 0\n",
      "   Total replies: 0\n",
      "   Total unique sodium children interaction users: 0\n",
      "MichelJoffres\n",
      "   Total tweets: 12                   retweets: 9 75.0 %\n",
      "   Total tweets related to sodium: 0\n",
      "   Total mentions: 11\n",
      "   Total references: 9\n",
      "   Total replies: 1\n",
      "   Total unique interaction users: 6\n",
      "   Total mentions: 0\n",
      "   Total references: 0\n",
      "   Total replies: 0\n",
      "   Total unique sodium interaction users: 0\n",
      "   Total mentions: 0\n",
      "   Total references: 0\n",
      "   Total replies: 0\n",
      "   Total unique sodium children interaction users: 0\n",
      "dmljmd\n",
      "   Total tweets: 1895                   retweets: 935 49.0 %\n",
      "   Total tweets related to sodium: 6\n",
      "   Total mentions: 3290\n",
      "   Total references: 1572\n",
      "   Total replies: 195\n",
      "   Total unique interaction users: 746\n",
      "   Total mentions: 11\n",
      "   Total references: 7\n",
      "   Total replies: 1\n",
      "   Total unique sodium interaction users: 9\n",
      "   Total mentions: 0\n",
      "   Total references: 0\n",
      "   Total replies: 0\n",
      "   Total unique sodium children interaction users: 0\n",
      "Dmozaffarian\n",
      "   Total tweets: 1609                   retweets: 391 24.0 %\n",
      "   Total tweets related to sodium: 32\n",
      "   Total mentions: 1827\n",
      "   Total references: 634\n",
      "   Total replies: 92\n",
      "   Total unique interaction users: 700\n",
      "   Total mentions: 20\n",
      "   Total references: 9\n",
      "   Total replies: 1\n",
      "   Total unique sodium interaction users: 23\n",
      "   Total mentions: 0\n",
      "   Total references: 0\n",
      "   Total replies: 0\n",
      "   Total unique sodium children interaction users: 0\n",
      "BruceNeal1\n",
      "   Total tweets: 369                   retweets: 189 51.0 %\n",
      "   Total tweets related to sodium: 56\n",
      "   Total mentions: 441\n",
      "   Total references: 232\n",
      "   Total replies: 17\n",
      "   Total unique interaction users: 203\n",
      "   Total mentions: 50\n",
      "   Total references: 25\n",
      "   Total replies: 0\n",
      "   Total unique sodium interaction users: 32\n",
      "   Total mentions: 1\n",
      "   Total references: 1\n",
      "   Total replies: 0\n",
      "   Total unique sodium children interaction users: 1\n",
      "DrSaccoNeuro\n",
      "   Total tweets: 519                   retweets: 229 44.0 %\n",
      "   Total tweets related to sodium: 3\n",
      "   Total mentions: 951\n",
      "   Total references: 361\n",
      "   Total replies: 14\n",
      "   Total unique interaction users: 202\n",
      "   Total mentions: 3\n",
      "   Total references: 2\n",
      "   Total replies: 0\n",
      "   Total unique sodium interaction users: 2\n",
      "   Total mentions: 0\n",
      "   Total references: 0\n",
      "   Total replies: 0\n",
      "   Total unique sodium children interaction users: 0\n",
      "MonellSc\n",
      "   Total tweets: 7105                   retweets: 1866 26.0 %\n",
      "   Total tweets related to sodium: 115\n",
      "   Total mentions: 8968\n",
      "   Total references: 3482\n",
      "   Total replies: 1302\n",
      "   Total unique interaction users: 2320\n",
      "   Total mentions: 105\n",
      "   Total references: 28\n",
      "   Total replies: 14\n",
      "   Total unique sodium interaction users: 73\n",
      "   Total mentions: 0\n",
      "   Total references: 0\n",
      "   Total replies: 0\n",
      "   Total unique sodium children interaction users: 0\n",
      "ASPCardio\n",
      "   Total tweets: 8205                   retweets: 3631 44.0 %\n",
      "   Total tweets related to sodium: 25\n",
      "   Total mentions: 13549\n",
      "   Total references: 3637\n",
      "   Total replies: 132\n",
      "   Total unique interaction users: 1228\n",
      "   Total mentions: 28\n",
      "   Total references: 15\n",
      "   Total replies: 0\n",
      "   Total unique sodium interaction users: 23\n",
      "   Total mentions: 0\n",
      "   Total references: 0\n",
      "   Total replies: 0\n",
      "   Total unique sodium children interaction users: 0\n",
      "CardioNerds\n",
      "   Total tweets: 7490                   retweets: 5373 72.0 %\n",
      "   Total tweets related to sodium: 1\n",
      "   Total mentions: 24579\n",
      "   Total references: 7035\n",
      "   Total replies: 373\n",
      "   Total unique interaction users: 2793\n",
      "   Total mentions: 9\n",
      "   Total references: 4\n",
      "   Total replies: 0\n",
      "   Total unique sodium interaction users: 6\n",
      "   Total mentions: 0\n",
      "   Total references: 0\n",
      "   Total replies: 0\n",
      "   Total unique sodium children interaction users: 0\n",
      "American_Heart\n",
      "   Total tweets: 41350                   retweets: 6240.0 15.0 %\n",
      "   Total tweets related to sodium: 1130\n",
      "AHAScience\n",
      "   Total tweets: 9524                   retweets: 2912 31.0 %\n",
      "   Total tweets related to sodium: 34\n",
      "   Total mentions: 33944\n",
      "   Total references: 17630\n",
      "   Total replies: 9952\n",
      "   Total unique interaction users: 12418\n",
      "   Total mentions: 757\n",
      "   Total references: 385\n",
      "   Total replies: 140\n",
      "   Total unique sodium interaction users: 328\n",
      "   Total mentions: 2\n",
      "   Total references: 1\n",
      "   Total replies: 0\n",
      "   Total unique sodium children interaction users: 2\n",
      "theNAMedicine\n",
      "   Total tweets: 12290                   retweets: 1318 11.0 %\n",
      "   Total tweets related to sodium: 1\n",
      "   Total mentions: 9439\n",
      "   Total references: 1553\n",
      "   Total replies: 175\n",
      "   Total unique interaction users: 2109\n",
      "   Total mentions: 1\n",
      "   Total references: 0\n",
      "   Total replies: 0\n",
      "   Total unique sodium interaction users: 1\n",
      "   Total mentions: 0\n",
      "   Total references: 0\n",
      "   Total replies: 0\n",
      "   Total unique sodium children interaction users: 0\n",
      "WorldHyperLeag\n",
      "   Total tweets: 187                   retweets: 128 68.0 %\n",
      "   Total tweets related to sodium: 3\n",
      "   Total mentions: 201\n",
      "   Total references: 133\n",
      "   Total replies: 1\n",
      "   Total unique interaction users: 85\n",
      "   Total mentions: 4\n",
      "   Total references: 1\n",
      "   Total replies: 0\n",
      "   Total unique sodium interaction users: 3\n",
      "   Total mentions: 0\n",
      "   Total references: 0\n",
      "   Total replies: 0\n",
      "   Total unique sodium children interaction users: 0\n",
      "worldheartfed\n",
      "   Total tweets: 17486                   retweets: 7013 40.0 %\n",
      "   Total tweets related to sodium: 111\n",
      "   Total mentions: 20853\n",
      "   Total references: 8733\n",
      "   Total replies: 1663\n",
      "   Total unique interaction users: 4643\n",
      "   Total mentions: 96\n",
      "   Total references: 46\n",
      "   Total replies: 7\n",
      "   Total unique sodium interaction users: 69\n",
      "   Total mentions: 1\n",
      "   Total references: 0\n",
      "   Total replies: 0\n",
      "   Total unique sodium children interaction users: 1\n",
      "WASHSALT\n",
      "   Total tweets: 2354                   retweets: 829 35.0 %\n",
      "   Total tweets related to sodium: 1369\n",
      "actiononsalt\n",
      "   Total tweets: 10332                   retweets: 3234 31.0 %\n",
      "   Total tweets related to sodium: 4943\n",
      "   Total mentions: 10896\n",
      "   Total references: 5388\n",
      "   Total replies: 1269\n",
      "   Total unique interaction users: 2365\n",
      "   Total mentions: 6049\n",
      "   Total references: 2812\n",
      "   Total replies: 638\n",
      "   Total unique sodium interaction users: 1596\n",
      "   Total mentions: 252\n",
      "   Total references: 96\n",
      "   Total replies: 17\n",
      "   Total unique sodium children interaction users: 107\n"
     ]
    },
    {
     "name": "stderr",
     "output_type": "stream",
     "text": [
      "/Users/lingchm/opt/anaconda3/lib/python3.7/site-packages/IPython/core/interactiveshell.py:3331: DtypeWarning: Columns (0,7,9) have mixed types.Specify dtype option on import or set low_memory=False.\n",
      "  exec(code_obj, self.user_global_ns, self.user_ns)\n"
     ]
    },
    {
     "name": "stdout",
     "output_type": "stream",
     "text": [
      "WHO\n",
      "   Total tweets: 86727                   retweets: 19892.0 23.0 %\n",
      "   Total tweets related to sodium: 300\n",
      "   Total mentions: 66994\n",
      "   Total references: 52761\n",
      "   Total replies: 32616\n",
      "   Total unique interaction users: 5342\n",
      "   Total mentions: 211\n",
      "   Total references: 222\n",
      "   Total replies: 154\n",
      "   Total unique sodium interaction users: 95\n",
      "   Total mentions: 13\n",
      "   Total references: 11\n",
      "   Total replies: 8\n",
      "   Total unique sodium children interaction users: 12\n",
      "DietHeartNews\n",
      "   Total tweets: 25429                   retweets: 4847 19.0 %\n",
      "   Total tweets related to sodium: 173\n",
      "   Total mentions: 12609\n",
      "   Total references: 9010\n",
      "   Total replies: 3210\n",
      "   Total unique interaction users: 4646\n",
      "   Total mentions: 99\n",
      "   Total references: 80\n",
      "   Total replies: 26\n",
      "   Total unique sodium interaction users: 75\n",
      "   Total mentions: 1\n",
      "   Total references: 1\n",
      "   Total replies: 0\n",
      "   Total unique sodium children interaction users: 2\n",
      "HealthyHeart4u\n",
      "   Total tweets: 5795                   retweets: 8 0.0 %\n",
      "   Total tweets related to sodium: 207\n",
      "   Total mentions: 34\n",
      "   Total references: 13\n",
      "   Total replies: 15\n",
      "   Total unique interaction users: 32\n",
      "   Total mentions: 0\n",
      "   Total references: 0\n",
      "   Total replies: 0\n",
      "   Total unique sodium interaction users: 0\n",
      "   Total mentions: 0\n",
      "   Total references: 0\n",
      "   Total replies: 0\n",
      "   Total unique sodium children interaction users: 0\n",
      "healthstepsonly\n",
      "   Total tweets: 10821                   retweets: 571 5.0 %\n",
      "   Total tweets related to sodium: 15\n",
      "   Total mentions: 5749\n",
      "   Total references: 1490\n",
      "   Total replies: 546\n",
      "   Total unique interaction users: 2483\n",
      "   Total mentions: 0\n",
      "   Total references: 0\n",
      "   Total replies: 0\n",
      "   Total unique sodium interaction users: 0\n",
      "   Total mentions: 0\n",
      "   Total references: 0\n",
      "   Total replies: 0\n",
      "   Total unique sodium children interaction users: 0\n",
      "DailyHealthTips\n",
      "   Total tweets: 16640                   retweets: 59 0.0 %\n",
      "   Total tweets related to sodium: 96\n",
      "   Total mentions: 600\n",
      "   Total references: 367\n",
      "   Total replies: 353\n",
      "   Total unique interaction users: 387\n",
      "   Total mentions: 2\n",
      "   Total references: 1\n",
      "   Total replies: 2\n",
      "   Total unique sodium interaction users: 3\n",
      "   Total mentions: 0\n",
      "   Total references: 0\n",
      "   Total replies: 0\n",
      "   Total unique sodium children interaction users: 0\n",
      "FoodInsight\n",
      "   Total tweets: 27584                   retweets: 2868 10.0 %\n",
      "   Total tweets related to sodium: 315\n",
      "   Total mentions: 16602\n",
      "   Total references: 7581\n",
      "   Total replies: 6938\n",
      "   Total unique interaction users: 6407\n",
      "   Total mentions: 83\n",
      "   Total references: 51\n",
      "   Total replies: 16\n",
      "   Total unique sodium interaction users: 58\n",
      "   Total mentions: 0\n",
      "   Total references: 0\n",
      "   Total replies: 0\n",
      "   Total unique sodium children interaction users: 0\n",
      "DrTomFrieden\n",
      "   Total tweets: 9849                   retweets: 1138 12.0 %\n",
      "   Total tweets related to sodium: 122\n",
      "   Total mentions: 4425\n",
      "   Total references: 3734\n",
      "   Total replies: 128\n",
      "   Total unique interaction users: 1245\n",
      "   Total mentions: 57\n",
      "   Total references: 19\n",
      "   Total replies: 3\n",
      "   Total unique sodium interaction users: 31\n",
      "   Total mentions: 0\n",
      "   Total references: 0\n",
      "   Total replies: 0\n",
      "   Total unique sodium children interaction users: 0\n",
      "Total number of tweets: 933979\n",
      "Total number of users: 60\n"
     ]
    }
   ],
   "source": [
    "total_tweets = 0\n",
    "total_usernames = 0\n",
    "hashtags = []\n",
    "hashtags_sodium = []\n",
    "interactions_usernames = []\n",
    "df_all = pd.DataFrame(columns=['year', 'organization', 'category', 'username', 'author_id', 'id', 'created_at', 'lang',\n",
    "       'text', 'source', 'mentions', 'hashtags',  'retweet','reply', 'reply_username','references', 'reference_ids', 'reference_userids', 'reference_usernames', \n",
    "        'interactions_count','retweet_count', 'reply_count', 'like_count', 'quote_count',\n",
    "       'contain_sodium', 'contain_children'])\n",
    "\n",
    "connection_matrix = pd.DataFrame(np.zeros((len(organization_list), len(organization_list))), \n",
    "                                 columns = organization_list, index = organization_list)\n",
    "connection_matrix_sodium = pd.DataFrame(np.zeros((len(organization_list), len(organization_list))), \n",
    "                                 columns = organization_list, index = organization_list)\n",
    "connection_matrix_sodium_children = pd.DataFrame(np.zeros((len(organization_list), len(organization_list))), \n",
    "                                 columns = organization_list, index = organization_list)\n",
    "\n",
    "for category in usernames.keys():\n",
    "    \n",
    "    for organization in usernames[category].keys():\n",
    "        \n",
    "        df_org = pd.DataFrame()\n",
    "        \n",
    "        for username in usernames[category][organization]:\n",
    "\n",
    "            # read in data\n",
    "            try:\n",
    "                df = pd.read_csv(\"data/twitter/wreferencename/user_\" + username + \".csv\", index_col=0)\n",
    "            except:\n",
    "                print(\"No file for\", username)\n",
    "                continue \n",
    "            df.drop(df.columns[df.columns.str.startswith(\"Unnamed\")].tolist(), axis=1, inplace=True)\n",
    "            df = df.loc[df[\"id\"] > 100] # remove wrong tweets\n",
    "\n",
    "            df.drop(df.columns[0], axis=1, inplace=True)\n",
    "            print(username)\n",
    "            print(\"   Total tweets:\", df.shape[0],\n",
    "                  \"                  retweets:\", np.sum(df['retweet']), np.round(np.sum(df['retweet']) / df.shape[0]*100), \"%\")\n",
    "            print(\"   Total tweets related to sodium:\", df.query(\"contain_sodium==1\").shape[0])\n",
    "\n",
    "            try:\n",
    "                df['year'] = pd.DatetimeIndex(df['created_at']).year\n",
    "            except:\n",
    "                df['year'] = df['created_at'].str.slice(0, 4).astype(int)\n",
    "            df['retweet_count'] = df['retweet_count'].astype(float)\n",
    "            df['reply_count'] = df['reply_count'].astype(float)\n",
    "            df['quote_count'] = df['quote_count'].astype(float)\n",
    "            flag_sodium = []\n",
    "            for i in range(df.shape[0]):\n",
    "                text = df['text'].values[i]\n",
    "                flag_sodium.append(search_sodium(text))\n",
    "            df['contain_sodium'] = flag_sodium\n",
    "            df['contain_children'] = (df['text'].str.contains(\"children\") | df['text'].str.contains(\"child\")) * 1\n",
    "            df['contain_children'] *= df['contain_sodium']\n",
    "            df['contain_lowincome'] = (df['text'].str.contains(\"low income\") | df['text'].str.contains(\"WIC\") | df['text'].str.contains(\"SNAP\")) * 1\n",
    "            df['popularity'] = df['like_count'].astype(float)\n",
    "            df['interactions_count'] = df['retweet_count'] + df['reply_count'] + df['popularity'] + df['quote_count']\n",
    "            df['popularity_sodium'] = df['popularity'] * df['contain_sodium']\n",
    "            df['popularity_children'] = df['popularity'] * df['contain_children'] * df['contain_sodium']\n",
    "            df['interactions_count_sodium'] = df['interactions_count'] * df['contain_sodium']\n",
    "            df['interactions_count_children'] = df['interactions_count'] * df['contain_children'] * df['contain_sodium']\n",
    "            df['username'] = username \n",
    "            df['category'] = category\n",
    "            df['organization'] = organization\n",
    "            \n",
    "            df.to_csv(\"data/twitter/final/user_\" + username + \".csv\", index=False)\n",
    "            \n",
    "            df_org = pd.concat([df_org, df], axis=0)\n",
    "            total_tweets += df.shape[0]\n",
    "            total_usernames += 1\n",
    "        \n",
    "        # interactions \n",
    "        all_interactions = preprocess_interactions(df_org)\n",
    "        all_interactions_unique = np.unique(all_interactions).tolist()\n",
    "        print(\"   Total unique interaction users:\",len(all_interactions_unique))\n",
    "        for interaction in all_interactions_unique:\n",
    "            if interaction in usernames_list:\n",
    "                connection_matrix.loc[organization, labels[interaction]] += all_interactions.count(interaction)   \n",
    "        interactions_usernames.extend(all_interactions_unique)\n",
    "        connection_matrix.loc[organization, organization] = df_org.shape[0]\n",
    "        \n",
    "        # sodium interactions \n",
    "        all_interactions = preprocess_interactions(df_org[df_org['contain_sodium']==1])\n",
    "        all_interactions_unique = np.unique(all_interactions).tolist()\n",
    "        print(\"   Total unique sodium interaction users:\",len(all_interactions_unique))\n",
    "        for interaction in all_interactions_unique:\n",
    "            if interaction in usernames_list:\n",
    "                connection_matrix_sodium.loc[organization, labels[interaction]] = all_interactions.count(interaction) \n",
    "        connection_matrix_sodium.loc[organization, organization] = df_org[df_org['contain_sodium']==1].shape[0]\n",
    "\n",
    "        # children interactions \n",
    "        all_interactions = preprocess_interactions(df_org[df_org['contain_children']==1])\n",
    "        all_interactions_unique = np.unique(all_interactions).tolist()\n",
    "        print(\"   Total unique sodium children interaction users:\",len(all_interactions_unique))\n",
    "        for interaction in all_interactions_unique:\n",
    "            if interaction in usernames_list:\n",
    "                connection_matrix_sodium.loc[organization, labels[interaction]] = all_interactions.count(interaction) \n",
    "        connection_matrix_sodium_children.loc[organization, organization] = df_org[df_org['contain_children']==1].shape[0]\n",
    "        \n",
    "        # get list of hastags:\n",
    "        for hashtag in df_org[~df_org['hashtags'].isnull()]['hashtags'].values:\n",
    "            if len(hashtag) > 2:\n",
    "                hashtags.extend(hashtag[2:-2].split(\"', '\"))\n",
    "\n",
    "        for hashtag in df_org[(~df_org['hashtags'].isnull()) & (df_org['contain_sodium']==1)]['hashtags'].values:\n",
    "            if len(hashtag) > 2:\n",
    "                hashtags_sodium.extend(hashtag[2:-2].split(\"', '\"))\n",
    "\n",
    "        # merge in\n",
    "        df_all = pd.concat([df_all, df_org], axis=0)\n",
    "\n",
    "        \n",
    "print(\"Total number of tweets:\", total_tweets)\n",
    "print(\"Total number of users:\", total_usernames)\n",
    "#print(\"Total sodium tweets:\", df_all[\"contain_sodium\"].sum())"
   ]
  },
  {
   "cell_type": "code",
   "execution_count": 21,
   "metadata": {},
   "outputs": [],
   "source": [
    "df_all['date'] = pd.to_datetime(df_all['created_at'])\n",
    "df_all['YearMonth'] = pd.to_datetime(df_all['created_at']).apply(lambda x: '{year}-{month}'.format(year=x.year, month=x.month))\n",
    "df_all['month'] = pd.DatetimeIndex(df_all['date']).month"
   ]
  },
  {
   "cell_type": "code",
   "execution_count": 22,
   "metadata": {},
   "outputs": [],
   "source": [
    "#df_all.to_csv(\"data/twitter/tweets_users_all.csv\", index=False)"
   ]
  },
  {
   "cell_type": "code",
   "execution_count": null,
   "metadata": {},
   "outputs": [],
   "source": [
    "np.sum(np.diagonal(connection_matrix))"
   ]
  },
  {
   "cell_type": "code",
   "execution_count": null,
   "metadata": {},
   "outputs": [],
   "source": [
    "np.sum(np.diagonal(connection_matrix_sodium))"
   ]
  },
  {
   "cell_type": "code",
   "execution_count": null,
   "metadata": {},
   "outputs": [],
   "source": [
    "np.sum(np.diagonal(connection_matrix_sodium_children))"
   ]
  },
  {
   "cell_type": "code",
   "execution_count": null,
   "metadata": {},
   "outputs": [],
   "source": [
    "df_sodium_children = df_sodium[df_sodium['contain_children']==1]\n",
    "df_sodium_lowincome = df_sodium[df_sodium['contain_lowincome']==1]\n",
    "df_sodium_children_lowincome = df_sodium[(df_sodium['contain_lowincome']==1) & (df_sodium['contain_children']==1) ]"
   ]
  },
  {
   "cell_type": "code",
   "execution_count": null,
   "metadata": {},
   "outputs": [],
   "source": [
    "users_all = df_all['username'].unique().tolist()\n",
    "print(len(users_all), df_all.shape[0])\n",
    "users_sodium = df_sodium['username'].unique().tolist()\n",
    "print(len(users_sodium), df_sodium.shape[0])\n",
    "users_children = df_sodium_children['username'].unique().tolist()\n",
    "print(len(users_children), df_sodium_children.shape[0])\n",
    "users_lowincome = df_sodium_lowincome['username'].unique().tolist()\n",
    "print(len(users_lowincome), df_sodium_lowincome.shape[0])"
   ]
  },
  {
   "cell_type": "code",
   "execution_count": null,
   "metadata": {},
   "outputs": [],
   "source": [
    "for user in users_all:\n",
    "    if user not in users_sodium:\n",
    "        print(user)"
   ]
  },
  {
   "cell_type": "code",
   "execution_count": null,
   "metadata": {},
   "outputs": [],
   "source": [
    "connection_matrix.to_csv(\"data/results/adjacency_matrix_all.csv\")\n",
    "connection_matrix_sodium.to_csv(\"data/results/adjacency_matrix_sodium.csv\")\n",
    "connection_matrix_sodium_children.to_csv(\"data/results/adjacency_matrix_sodium_children.csv\")"
   ]
  },
  {
   "cell_type": "code",
   "execution_count": null,
   "metadata": {},
   "outputs": [],
   "source": [
    "df_hashtags = pd.DataFrame(hashtags, columns=[\"hashtags\"])\n",
    "df_hashtags.to_csv(\"data/results/hashtags_all.csv\", index=False)"
   ]
  },
  {
   "cell_type": "code",
   "execution_count": null,
   "metadata": {},
   "outputs": [],
   "source": [
    "df_hashtags_sodium = pd.DataFrame(hashtags_sodium, columns=[\"hashtags\"])\n",
    "df_hashtags_sodium.to_csv(\"data/results/hashtags_sodium.csv\", index=False)"
   ]
  },
  {
   "cell_type": "markdown",
   "metadata": {},
   "source": [
    "## Double check sodium "
   ]
  },
  {
   "cell_type": "code",
   "execution_count": null,
   "metadata": {},
   "outputs": [],
   "source": [
    "# get list of usernames\n",
    "keep = [\"No_added_salt\", \"actiononsalt\", \"soloseasalt\", \"eatlowsodium\", 'lowsodiumfoods', \"sodiumgirl\", \"sodiumhf\"]\n",
    "interactions_usernames = np.unique(interactions_usernames).tolist()\n",
    "interactions_usernames_salt = []\n",
    "for name in interactions_usernames:\n",
    "    if (\"salt\" in name or \"sodium\" in name):\n",
    "        interactions_usernames_salt.append(name)\n",
    "interactions_usernames_salt"
   ]
  },
  {
   "cell_type": "code",
   "execution_count": null,
   "metadata": {
    "scrolled": false
   },
   "outputs": [],
   "source": [
    "# saltier, salty (sarcasnim), slats\n",
    "keep2 = [\n",
    " 'switchthesalt',\n",
    " 'breakupwithsalt',\n",
    " 'escapethesalt',\n",
    " 'hiddensalt',\n",
    " 'noaddedsalt',\n",
    " 'nosaltplease',\n",
    " 'nycsalt',\n",
    " 'reducesalt',\n",
    " 'restrictsalt',\n",
    " 'saltintake',\n",
    " 'saltsubsitute',\n",
    " 'saltsubstitutes',\n",
    " 'saltsugfat',\n",
    " 'saltswitch',\n",
    " 'shakethesalthabit',\n",
    " 'sneakysalt',\n",
    " 'saltweek2018',\n",
    " 'stopsaltstopstroke',\n",
    " 'stopthehiddensalt',\n",
    " 'toomuchsalt',\n",
    " 'uksaltchallenge',\n",
    " 'unsalted',\n",
    " 'spotthesalt',\n",
    "    \n",
    "]\n",
    "\n",
    "hashtags_sodium_keyword = []\n",
    "for hashtag in np.unique(hashtags_sodium).tolist():\n",
    "    if (\"salt\" in hashtag) or (\"sodium\" in hashtag):\n",
    "        hashtags_sodium_keyword.append(hashtag)\n",
    "hashtags_sodium_keyword"
   ]
  },
  {
   "cell_type": "code",
   "execution_count": null,
   "metadata": {
    "scrolled": true
   },
   "outputs": [],
   "source": [
    "flag_sodium = []\n",
    "for i in range(df_all.shape[0]):\n",
    "    \n",
    "    # lower case \n",
    "    text = df_all['text'].values[i]\n",
    "    if (i % 10000) == 0: print(len(flag_sodium))\n",
    "\n",
    "    flag_sodium.append(search_sodium(text))"
   ]
  },
  {
   "cell_type": "code",
   "execution_count": null,
   "metadata": {},
   "outputs": [],
   "source": [
    "len(flag_sodium) == df_all.shape[0]"
   ]
  },
  {
   "cell_type": "code",
   "execution_count": null,
   "metadata": {},
   "outputs": [],
   "source": [
    "df_all['contain_sodium_verified'] = flag_sodium"
   ]
  },
  {
   "cell_type": "code",
   "execution_count": null,
   "metadata": {},
   "outputs": [],
   "source": [
    "print(df_all['contain_sodium_verified'].sum())\n",
    "print(df_all['contain_sodium'].sum())"
   ]
  },
  {
   "cell_type": "code",
   "execution_count": null,
   "metadata": {},
   "outputs": [],
   "source": [
    "# examples flagged as non-soodium\n",
    "df_all.rename(columns={\"contain_sodium_verified\": \"contain_sodium\", \n",
    "                          \"contain_sodium\": \"contain_sodium_unverified\"}, inplace=True)"
   ]
  },
  {
   "cell_type": "code",
   "execution_count": null,
   "metadata": {},
   "outputs": [],
   "source": [
    "df_all[\"contain_sodium\"].unique()"
   ]
  },
  {
   "cell_type": "code",
   "execution_count": null,
   "metadata": {},
   "outputs": [],
   "source": [
    "df_all[\"contain_children\"].unique()"
   ]
  },
  {
   "cell_type": "code",
   "execution_count": null,
   "metadata": {},
   "outputs": [],
   "source": [
    "df_all['contain_children'] = df_all['contain_children'] * df_all['contain_sodium']\n",
    "df_all['popularity_sodium'] = df_all['popularity'] * df_all['contain_sodium']\n",
    "df_all['popularity_children'] = df_all['popularity'] * df_all['contain_children'] * df_all['contain_sodium']\n",
    "df_all['interactions_count_sodium'] = df_all['interactions_count'] * df_all['contain_sodium']\n",
    "df_all['interactions_count_children'] = df_all['interactions_count'] * df_all['contain_children'] * df_all['contain_sodium']"
   ]
  },
  {
   "cell_type": "markdown",
   "metadata": {},
   "source": [
    "## User counts"
   ]
  },
  {
   "cell_type": "code",
   "execution_count": null,
   "metadata": {},
   "outputs": [],
   "source": []
  },
  {
   "cell_type": "markdown",
   "metadata": {},
   "source": [
    "# Analysis 1: summary stats"
   ]
  },
  {
   "cell_type": "code",
   "execution_count": null,
   "metadata": {},
   "outputs": [],
   "source": [
    "df_all = pd.read_csv(\"data/twitter/tweets_users_all.csv\")#\n",
    "#df_all = pd.read_csv(\"data/twitter/tweets_users_sodium.csv\")"
   ]
  },
  {
   "cell_type": "code",
   "execution_count": null,
   "metadata": {},
   "outputs": [],
   "source": [
    "df_all.columns[13:21]"
   ]
  },
  {
   "cell_type": "code",
   "execution_count": null,
   "metadata": {},
   "outputs": [],
   "source": [
    "df_all.shape"
   ]
  },
  {
   "cell_type": "code",
   "execution_count": null,
   "metadata": {},
   "outputs": [],
   "source": [
    "np.min(df_all['year'])"
   ]
  },
  {
   "cell_type": "code",
   "execution_count": null,
   "metadata": {},
   "outputs": [],
   "source": [
    "df_by_user = df_all[[\"organization\", 'contain_sodium', 'contain_children',\n",
    "                     'interactions_count','interactions_count_sodium', 'interactions_count_children',\n",
    "                    'popularity', 'popularity_sodium', 'popularity_children']].groupby([\"organization\"]).sum()\n",
    "df_by_user['category'] = df_all[[\"organization\", \"category\"]].groupby([\"organization\"]).first()\n",
    "df_by_user['tweets'] = df_all[[\"organization\", 'year']].groupby([\"organization\"]).count()['year']\n",
    "\n",
    "df_by_user.to_csv(\"data/results/df_by_user.csv\")\n",
    "df_by_user.iloc[:5,:]"
   ]
  },
  {
   "cell_type": "code",
   "execution_count": null,
   "metadata": {},
   "outputs": [],
   "source": [
    "df_all.iloc[:5,:]"
   ]
  },
  {
   "cell_type": "markdown",
   "metadata": {
    "id": "nj-k4N8o7vsF"
   },
   "source": [
    "## Twitter Activity"
   ]
  },
  {
   "cell_type": "code",
   "execution_count": null,
   "metadata": {},
   "outputs": [],
   "source": [
    "username = \"all\"\n",
    "if username != \"all\":\n",
    "    df_all = df_all[df_all['username']==username]\n",
    "df_all.shape"
   ]
  },
  {
   "cell_type": "markdown",
   "metadata": {},
   "source": [
    "### By Year"
   ]
  },
  {
   "cell_type": "code",
   "execution_count": null,
   "metadata": {},
   "outputs": [],
   "source": [
    "df_year_user = (df_all.groupby([\"organization\", \"year\"]).agg({\n",
    "            'category': [\"first\"],\n",
    "            'author_id': ['count'], \n",
    "            'retweet': ['sum'],\n",
    "            'contain_sodium': ['sum'],\n",
    "            'contain_children': ['sum'],\n",
    "            'contain_lowincome': ['sum'],\n",
    "            'interactions_count': ['sum'],\n",
    "            'interactions_count_sodium': ['sum'],\n",
    "            'interactions_count_children': ['sum'],\n",
    "            'popularity': ['sum'],\n",
    "            'popularity_sodium': ['sum'],\n",
    "            'popularity_children': ['sum'],\n",
    "            }))\n",
    "df_year_user.columns = [\"category\", \"tweet_total\", \"retweet_total\",\n",
    "                           \"tweet_sodium\", \"tweet_children\", \"tweet_lowincome\", \n",
    "                           \"interactions_total\",\"interactions_sodium\", \"interactions_children\", \n",
    "                          \"popularity_total\",\"popularity_sodium\",\"popularity_children\"]\n",
    "df_year_user['tweet_sodium_pct'] = df_year_user['tweet_sodium'] / df_year_user['tweet_total']\n",
    "df_year_user['interactions_sodium_pct'] = df_year_user['interactions_sodium'] / df_year_user['interactions_total']\n",
    "df_year_user['popularity_sodium_pct'] = df_year_user['popularity_sodium'] / df_year_user['popularity_total']\n",
    "df_year_user.reset_index(inplace=True)"
   ]
  },
  {
   "cell_type": "code",
   "execution_count": null,
   "metadata": {},
   "outputs": [],
   "source": [
    "df_year_user"
   ]
  },
  {
   "cell_type": "code",
   "execution_count": null,
   "metadata": {},
   "outputs": [],
   "source": [
    "df_year = df_year_user.groupby(\"year\").sum()\n",
    "df_year.reset_index(inplace=True)\n",
    "df_year['tweet_sodium_pct'] = df_year['tweet_sodium'] / df_year['tweet_total']* 100\n",
    "df_year['interactions_sodium_pct'] = df_year['interactions_sodium'] / df_year['interactions_total'] * 100\n",
    "df_year['popularity_sodium_pct'] = df_year['popularity_sodium'] / df_year['popularity_total'] * 100\n",
    "df_year['tweet_children_pct'] = df_year['tweet_children'] / df_year['tweet_total']* 100\n",
    "df_year['interactions_children_pct'] = df_year['interactions_children'] / df_year['interactions_total'] * 100\n",
    "df_year['popularity_children_pct'] = df_year['popularity_children'] / df_year['popularity_total'] * 100"
   ]
  },
  {
   "cell_type": "code",
   "execution_count": null,
   "metadata": {},
   "outputs": [],
   "source": [
    "df_year"
   ]
  },
  {
   "cell_type": "code",
   "execution_count": null,
   "metadata": {
    "colab": {
     "base_uri": "https://localhost:8080/",
     "height": 1000
    },
    "id": "mQlupuc2vKYV",
    "outputId": "40e44620-e943-44ac-d830-12ee42bcf52f"
   },
   "outputs": [],
   "source": [
    "# plot sodium vs all\n",
    "plot_counts(df_year, by=\"year\", columns=['tweet_sodium_pct','tweet_sodium'],\n",
    "           axis_labels=[\"sodium % of all tweets\", \"Number of tweets\"],\n",
    "           title=\"Sodium-Related Tweets for \" + username + \" accounts\")\n",
    "print(\" \")\n",
    "plot_counts(df_year, by=\"year\", columns=['interactions_sodium_pct','interactions_sodium'],\n",
    "           axis_labels=[\"sodium % of all tweets\", \"Number of interactions\"],\n",
    "           title=\"Interactions for Sodium-Related Tweet for \" + username + \" accounts\")\n",
    "print(\" \")\n",
    "plot_counts(df_year, by=\"year\", columns=['popularity_sodium_pct','popularity_sodium'],\n",
    "           axis_labels=[\"sodium % of all tweets\", \"Number of likes\"],\n",
    "           title=\"Likes for Sodium-Related Tweet for \" + username + \" accounts\")"
   ]
  },
  {
   "cell_type": "code",
   "execution_count": null,
   "metadata": {},
   "outputs": [],
   "source": [
    "# plot children vs sodium\n",
    "plot_counts(df_year, by=\"year\", columns=['tweet_children_pct','tweet_children'],\n",
    "           axis_labels=[\"children % of all sodium tweets\", \"Number of tweets\"],\n",
    "           title=\"Children-Related Sodium Tweets for \" + username + \" Accounts\")\n",
    "print(\" \")\n",
    "plot_counts(df_year, by=\"year\", columns=['interactions_children_pct','interactions_children'],\n",
    "           axis_labels=[\"children % of all sodium tweets\", \"Number of interactions\"],\n",
    "           title=\"Interactions for Children-Related Sodium Tweets for \" + username + \" Accounts\")\n",
    "print(\" \")\n",
    "plot_counts(df_year, by=\"year\", columns=['popularity_children_pct','popularity_children'],\n",
    "           axis_labels=[\"children % of all sodium tweets\", \"Number of likes\"],\n",
    "           title=\"Likes for Children-Related Sodium Tweets for \" + username + \" Accounts\")"
   ]
  },
  {
   "cell_type": "markdown",
   "metadata": {},
   "source": [
    "### By Year Month"
   ]
  },
  {
   "cell_type": "code",
   "execution_count": null,
   "metadata": {},
   "outputs": [],
   "source": [
    "df_year_user = (df_all.groupby([\"username\", \"YearMonth\"]).agg({\n",
    "            'year': ['first'],\n",
    "            'month': ['first'],\n",
    "            'category': [\"first\"],\n",
    "            'author_id': ['count'], \n",
    "            'retweet': ['sum'],\n",
    "            'contain_sodium': ['sum'],\n",
    "            'contain_children': ['sum'],\n",
    "            'contain_lowincome': ['sum'],\n",
    "            'interactions_count': ['sum'],\n",
    "            'interactions_count_sodium': ['sum'],\n",
    "            'interactions_count_children': ['sum'],\n",
    "            'popularity': ['sum'],\n",
    "            'popularity_sodium': ['sum'],\n",
    "            'popularity_children': ['sum'],\n",
    "            }))\n",
    "df_year_user.columns = [\"year\", \"month\", \"category\", \"tweet_total\", \"retweet_total\",\n",
    "                           \"tweet_sodium\", \"tweet_children\", \"tweet_lowincome\", \n",
    "                           \"interactions_total\",\"interactions_sodium\", \"interactions_children\", \n",
    "                          \"popularity_total\",\"popularity_sodium\",\"popularity_children\"]\n",
    "df_year_user['tweet_sodium_pct'] = df_year_user['tweet_sodium'] / df_year_user['tweet_total'] * 100\n",
    "df_year_user['interactions_sodium_pct'] = df_year_user['interactions_sodium'] / df_year_user['interactions_total'] * 100\n",
    "df_year_user['popularity_sodium_pct'] = df_year_user['popularity_sodium'] / df_year_user['popularity_total'] * 100\n",
    "df_year_user['tweet_children_pct'] = df_year_user['tweet_children'] / df_year_user['tweet_total'] * 100\n",
    "df_year_user['interactions_children_pct'] = df_year_user['interactions_children'] / df_year_user['interactions_total'] * 100\n",
    "df_year_user['popularity_children_pct'] = df_year_user['popularity_children'] / df_year_user['popularity_total'] * 100\n",
    "df_year_user.reset_index(inplace=True)\n",
    "# df_grouped_year.to_csv(\"data/results/df_grouped_year.csv\", index=False)"
   ]
  },
  {
   "cell_type": "code",
   "execution_count": null,
   "metadata": {},
   "outputs": [],
   "source": [
    "df_year[df_year.columns[df_year.columns.str.endswith(\"_pct\")]].fillna(0, inplace=True)"
   ]
  },
  {
   "cell_type": "code",
   "execution_count": null,
   "metadata": {},
   "outputs": [],
   "source": [
    "df_year = (df_all.groupby([\"YearMonth\"]).agg({\n",
    "            'year': ['first'],\n",
    "            'month': ['first'],\n",
    "            'category': [\"first\"],\n",
    "            'author_id': ['count'], \n",
    "            'retweet': ['sum'],\n",
    "            'contain_sodium': ['sum'],\n",
    "            'contain_children': ['sum'],\n",
    "            'contain_lowincome': ['sum'],\n",
    "            'interactions_count': ['sum'],\n",
    "            'interactions_count_sodium': ['sum'],\n",
    "            'interactions_count_children': ['sum'],\n",
    "            'popularity': ['sum'],\n",
    "            'popularity_sodium': ['sum'],\n",
    "            'popularity_children': ['sum'],\n",
    "            }))\n",
    "df_year.columns = [\"year\", \"month\", \"category\", \"tweet_total\", \"retweet_total\",\n",
    "                           \"tweet_sodium\", \"tweet_children\", \"tweet_lowincome\", \n",
    "                           \"interactions_total\",\"interactions_sodium\", \"interactions_children\", \n",
    "                          \"popularity_total\",\"popularity_sodium\",\"popularity_children\"]\n",
    "df_year['tweet_sodium_pct'] = df_year['tweet_sodium'] / df_year['tweet_total'] * 100\n",
    "df_year['interactions_sodium_pct'] = df_year['interactions_sodium'] / df_year['interactions_total'] * 100\n",
    "df_year['popularity_sodium_pct'] = df_year['popularity_sodium'] / df_year['popularity_total'] * 100\n",
    "df_year['tweet_children_pct'] = df_year['tweet_children'] / df_year['tweet_total'] * 100\n",
    "df_year['interactions_children_pct'] = df_year['interactions_children'] / df_year['interactions_total'] * 100\n",
    "df_year['popularity_children_pct'] = df_year['popularity_children'] / df_year['popularity_total'] * 100\n",
    "df_year.reset_index(inplace=True)\n",
    "# df_grouped_year.to_csv(\"data/results/df_grouped_year.csv\", index=False)"
   ]
  },
  {
   "cell_type": "code",
   "execution_count": null,
   "metadata": {},
   "outputs": [],
   "source": [
    "df_year.columns"
   ]
  },
  {
   "cell_type": "code",
   "execution_count": null,
   "metadata": {},
   "outputs": [],
   "source": [
    "# fill in some dates with missing \n",
    "missing_dates = []\n",
    "years = []\n",
    "months = []\n",
    "for year in range(2009, 2022):\n",
    "    for month in range(1, 13):\n",
    "        t = str(year) + \"-\" + str(month)\n",
    "        if t not in df_year['YearMonth'].tolist():\n",
    "            print(t)\n",
    "            missing_dates.append(t)\n",
    "            years.append(year)\n",
    "            months.append(month)\n",
    "\n",
    "a = np.asarray(missing_dates).reshape(-1,1)\n",
    "c = np.asarray(years).reshape(-1,1)\n",
    "d = np.asarray(months).reshape(-1,1)\n",
    "b = np.zeros((len(missing_dates), df_year.shape[1]-3))\n",
    "df_missing = pd.DataFrame()\n",
    "df_missing['YearMonth'] = missing_dates\n",
    "df_missing['year'] = years\n",
    "df_missing['month'] = months\n",
    "df_missing['category'] = [\"NA\",\"NA\"]\n",
    "for col in df_year.columns[4:]:\n",
    "    df_missing[col]=0\n",
    "    \n",
    "print(df_year.shape, df_missing.shape)\n",
    "df_year = pd.concat([df_year, df_missing], axis=0)\n",
    "print(df_year.shape)\n",
    "df_year.reset_index(inplace=True)\n",
    "df_year = df_year.sort_values([\"year\", \"month\"])"
   ]
  },
  {
   "cell_type": "code",
   "execution_count": null,
   "metadata": {},
   "outputs": [],
   "source": [
    "# plot children vs sodium\n",
    "plot_counts_YearMonth(df_year, by=\"YearMonth\", columns=['tweet_children_pct','tweet_children'],\n",
    "           axis_labels=[\"children % of all sodium tweets\", \"Number of tweets\"],\n",
    "           title=\"Children-Related Sodium Tweets for \" + username + \" Accounts\")\n",
    "print(\" \")\n",
    "plot_counts_YearMonth(df_year, by=\"YearMonth\", columns=['interactions_children_pct','interactions_children'],\n",
    "           axis_labels=[\"children % of all sodium tweets\", \"Number of interactions\"],\n",
    "           title=\"Interactions for Children-Related Sodium Tweets for \" + username + \" Accounts\")\n",
    "print(\" \")\n",
    "plot_counts_YearMonth(df_year, by=\"YearMonth\", columns=['popularity_children_pct','popularity_children'],\n",
    "           axis_labels=[\"children % of all sodium tweets\", \"Number of likes\"],\n",
    "           title=\"Likes for Children-Related Sodium Tweets for \" + username + \" Accounts\")"
   ]
  },
  {
   "cell_type": "code",
   "execution_count": null,
   "metadata": {},
   "outputs": [],
   "source": []
  },
  {
   "cell_type": "code",
   "execution_count": null,
   "metadata": {},
   "outputs": [],
   "source": []
  },
  {
   "cell_type": "markdown",
   "metadata": {},
   "source": [
    "## Hashtags "
   ]
  },
  {
   "cell_type": "code",
   "execution_count": null,
   "metadata": {},
   "outputs": [],
   "source": [
    "ls"
   ]
  },
  {
   "cell_type": "code",
   "execution_count": null,
   "metadata": {},
   "outputs": [],
   "source": [
    "df_hashtags_sodium = pd.read_csv(\"data/results/hashtags_sodium.20220712.csv\")\n",
    "df_hashtags = pd.read_csv(\"data/results/hashtags_all.20220712.csv\")"
   ]
  },
  {
   "cell_type": "code",
   "execution_count": null,
   "metadata": {
    "colab": {
     "base_uri": "https://localhost:8080/",
     "height": 319
    },
    "id": "1HvWVj8DarAt",
    "outputId": "5583a6c5-8884-4fec-b440-e223fa5ea6de"
   },
   "outputs": [],
   "source": [
    "_ = get_wordcloud(df_hashtags[\"hashtags\"], title=\"All tweets\")"
   ]
  },
  {
   "cell_type": "code",
   "execution_count": null,
   "metadata": {
    "colab": {
     "base_uri": "https://localhost:8080/",
     "height": 319
    },
    "id": "YoHSSKlleuOL",
    "outputId": "f7ac4646-e6fb-45ee-e077-9752a68c375a"
   },
   "outputs": [],
   "source": [
    "_ = get_wordcloud(df_hashtags_sodium[\"hashtags\"], title=\"Sodium tweets\")"
   ]
  },
  {
   "cell_type": "markdown",
   "metadata": {},
   "source": [
    "## Who takes lead at sodium efforts (Excel)"
   ]
  },
  {
   "cell_type": "markdown",
   "metadata": {},
   "source": [
    "## Children tweets"
   ]
  },
  {
   "cell_type": "code",
   "execution_count": null,
   "metadata": {},
   "outputs": [],
   "source": []
  },
  {
   "cell_type": "code",
   "execution_count": null,
   "metadata": {},
   "outputs": [],
   "source": []
  },
  {
   "cell_type": "markdown",
   "metadata": {
    "id": "pRD6_Qum_qD5"
   },
   "source": [
    "# Analysis 2: Tweet Interactions"
   ]
  },
  {
   "cell_type": "code",
   "execution_count": null,
   "metadata": {},
   "outputs": [],
   "source": [
    "os.chdir(\"/Users/lingchm/Documents/Github/us_sodium_policies\")\n",
    "df_graph_sodium = pd.read_csv(\"data/results/adjacency_matrix_sodium.csv\", index_col=0)\n",
    "df_graph = pd.read_csv(\"data/results/adjacency_matrix_all.csv\", index_col=0)\n",
    "usernames = df_graph.index.tolist()"
   ]
  },
  {
   "cell_type": "markdown",
   "metadata": {},
   "source": [
    "## NXVIZ"
   ]
  },
  {
   "cell_type": "code",
   "execution_count": null,
   "metadata": {},
   "outputs": [],
   "source": [
    "os.chdir(\"/Users/lingchm/Documents/Github/nxviz\")\n",
    "from nxviz.plots import *\n",
    "from nxviz.annotate import *\n",
    "from nxviz.api import *\n",
    "import nxviz as nv"
   ]
  },
  {
   "cell_type": "code",
   "execution_count": null,
   "metadata": {},
   "outputs": [],
   "source": [
    "# create graph object\n",
    "A = np.asarray(df_graph_sodium)\n",
    "for i in range(A.shape[0]):\n",
    "    A[i,i] = 0\n",
    "G = nx.from_numpy_matrix(A, create_using=nx.DiGraph())\n",
    "nx.draw(G)"
   ]
  },
  {
   "cell_type": "code",
   "execution_count": null,
   "metadata": {},
   "outputs": [],
   "source": [
    "df_by_user.columns"
   ]
  },
  {
   "cell_type": "code",
   "execution_count": null,
   "metadata": {},
   "outputs": [],
   "source": [
    "# add group to each node\n",
    "for i in range(len(usernames)):\n",
    "    G.nodes[i][\"category\"] = df_by_user.loc[usernames[i], \"category\"]\n",
    "    G.nodes[i][\"tweets\"] = df_by_user.loc[usernames[i], \"tweet_sodium\"]"
   ]
  },
  {
   "cell_type": "code",
   "execution_count": null,
   "metadata": {},
   "outputs": [],
   "source": [
    "weight = 10 \n",
    "\n",
    "# add weights to each edge:\n",
    "for i in range(len(usernames)):\n",
    "    for j in range(len(usernames)):\n",
    "        if df_graph_sodium.iloc[i,j] > 0: \n",
    "            G.edges[i,j][\"weight\"] = weight\n",
    "            G.edges[i,j][\"interactions\"] = int(df_graph_sodium.loc[usernames[i], usernames[j]])"
   ]
  },
  {
   "cell_type": "code",
   "execution_count": null,
   "metadata": {},
   "outputs": [],
   "source": [
    "import matplotlib.pyplot as plt\n",
    "plt.rcParams[\"figure.figsize\"] = (10,10)\n",
    "plt.rcParams['axes.facecolor'] = 'white'"
   ]
  },
  {
   "cell_type": "code",
   "execution_count": null,
   "metadata": {
    "colab": {
     "base_uri": "https://localhost:8080/",
     "height": 320
    },
    "id": "YnwpkVYZmaqT",
    "outputId": "877a9b62-bea0-446c-f2bd-629b049be546",
    "scrolled": false
   },
   "outputs": [],
   "source": [
    "fig,ax = plt.subplots(figsize=(10,10))\n",
    "plt.title(\"Sodium-related tweets\")\n",
    "\n",
    "ax = nv.circos(\n",
    "    G,\n",
    "    group_by=\"category\",\n",
    "    sort_by=\"tweets\",\n",
    "    node_color_by=\"category\",\n",
    "    node_alpha_by = \"tweets\",\n",
    "    #node_size_by=\"tweets\",\n",
    "    edge_color_by=\"source_node_color\",\n",
    "    #group_label_position=\"middle\",\n",
    "    #nodeprops ={\"radius\":5},\n",
    "    #node_label_layout=\"rotation\",\n",
    "    #edge_width = \"weight\",\n",
    "    #edge_alpha_by=\"interactions\"\n",
    ")\n",
    "\n",
    "circos_group(G, group_by=\"category\")\n",
    "circos_labels(G, group_by=\"category\",\n",
    "    sort_by=\"tweets\",\n",
    "    layout=\"node_center\") # standard \n",
    "#node_labels(G)"
   ]
  },
  {
   "cell_type": "code",
   "execution_count": null,
   "metadata": {},
   "outputs": [],
   "source": [
    "pd.DataFrame(usernames)"
   ]
  },
  {
   "cell_type": "code",
   "execution_count": null,
   "metadata": {},
   "outputs": [],
   "source": [
    "CircosPlot(G, \n",
    "            node_grouping=\"category\",\n",
    "            node_color=\"category\", \n",
    "            node_order=\"category\",\n",
    "            node_alpha=\"tweets\",\n",
    "            edge_color=\"source_node_color\",\n",
    "            #edge_alpha=\"interactions\")\n",
    "            #node_labels=True\n",
    "          )\n",
    "\n",
    "plt.show()"
   ]
  },
  {
   "cell_type": "code",
   "execution_count": null,
   "metadata": {},
   "outputs": [],
   "source": []
  },
  {
   "cell_type": "markdown",
   "metadata": {},
   "source": [
    "### echart"
   ]
  },
  {
   "cell_type": "code",
   "execution_count": null,
   "metadata": {},
   "outputs": [],
   "source": [
    "import pyecharts"
   ]
  },
  {
   "cell_type": "code",
   "execution_count": null,
   "metadata": {},
   "outputs": [],
   "source": [
    "from pyecharts.charts import Bar, Graph\n",
    "from pyecharts.charts import Boxplot\n",
    "from pyecharts import options as opts\n",
    "import pandas as pd\n",
    "from gapminder import gapminder"
   ]
  },
  {
   "cell_type": "code",
   "execution_count": null,
   "metadata": {},
   "outputs": [],
   "source": [
    "import seaborn as sns"
   ]
  },
  {
   "cell_type": "code",
   "execution_count": null,
   "metadata": {},
   "outputs": [],
   "source": [
    "df_graph"
   ]
  },
  {
   "cell_type": "code",
   "execution_count": null,
   "metadata": {},
   "outputs": [],
   "source": [
    "df_by_user"
   ]
  },
  {
   "cell_type": "code",
   "execution_count": null,
   "metadata": {},
   "outputs": [],
   "source": []
  },
  {
   "cell_type": "code",
   "execution_count": null,
   "metadata": {},
   "outputs": [],
   "source": [
    "from sklearn.preprocessing import MinMaxScaler\n",
    "\n",
    "# scale node size\n",
    "scaler = MinMaxScaler(feature_range=(5,60))\n",
    "scaled_node_value = scaler.fit_transform(np.diagonal(df_graph).reshape(-1,1))\n",
    "\n",
    "# scale value \n",
    "df_graph_scaled = np.asarray(df_graph.copy())\n",
    "for i in range(df_graph_scaled.shape[0]):\n",
    "    df_graph_scaled[i,i] = 0\n",
    "df_graph_scaled = df_graph_scaled.reshape(df_graph.shape[0]*df_graph.shape[1], 1)\n",
    "scaler = MinMaxScaler(feature_range=(0,10))\n",
    "df_graph_scaled = scaler.fit_transform(df_graph_scaled)\n",
    "df_graph_scaled = df_graph_scaled.reshape(df_graph.shape[0], df_graph.shape[1])"
   ]
  },
  {
   "cell_type": "code",
   "execution_count": null,
   "metadata": {},
   "outputs": [],
   "source": [
    "sns.heatmap(df_graph_scaled)"
   ]
  },
  {
   "cell_type": "code",
   "execution_count": null,
   "metadata": {},
   "outputs": [],
   "source": [
    "sns.heatmap(df_graph, cmap=\"jet\")"
   ]
  },
  {
   "cell_type": "code",
   "execution_count": null,
   "metadata": {
    "scrolled": true
   },
   "outputs": [],
   "source": [
    "np.argmax(df_graph)"
   ]
  },
  {
   "cell_type": "code",
   "execution_count": null,
   "metadata": {},
   "outputs": [],
   "source": [
    "np.argmax(df_graph_scaled)"
   ]
  },
  {
   "cell_type": "code",
   "execution_count": null,
   "metadata": {},
   "outputs": [],
   "source": [
    "df_graph_scaled.flatten()"
   ]
  },
  {
   "cell_type": "code",
   "execution_count": null,
   "metadata": {},
   "outputs": [],
   "source": [
    "df_graph"
   ]
  },
  {
   "cell_type": "code",
   "execution_count": null,
   "metadata": {},
   "outputs": [],
   "source": [
    "usernames = df_by_user.index.tolist()\n",
    "\n",
    "for name in df_graph.index.tolist():\n",
    "    if name not in usernames:\n",
    "        print(\"dropping\", name)\n",
    "        df_graph.drop([name], axis=0, inplace=True)\n",
    "        df_graph.drop([name], axis=1, inplace=True)"
   ]
  },
  {
   "cell_type": "code",
   "execution_count": null,
   "metadata": {},
   "outputs": [],
   "source": []
  },
  {
   "cell_type": "code",
   "execution_count": null,
   "metadata": {},
   "outputs": [],
   "source": [
    "categories = []\n",
    "for category in np.unique(df_by_user['category']).tolist():\n",
    "    categories.append({\"name\": category})\n",
    "categories"
   ]
  },
  {
   "cell_type": "code",
   "execution_count": null,
   "metadata": {},
   "outputs": [],
   "source": [
    "nodes = []\n",
    "for i in range(df_graph.shape[0]): \n",
    "    username = df_graph.iloc[i].name\n",
    "    for j in range(len(categories)):\n",
    "        if df_by_user.loc[username, \"category\"] == categories[j][\"name\"]:\n",
    "            category_id = j\n",
    "            #print(username, df_by_user.loc[username, \"category\"], j)\n",
    "            \n",
    "    nodes.append({\"id\": str(i), \n",
    "                  \"name\": username, \n",
    "                  \"category\": category_id,\n",
    "                  \"value\": df_graph.iloc[i,i],\n",
    "                  \"symbolSize\": round(scaled_node_value[i][0], 6)})"
   ]
  },
  {
   "cell_type": "code",
   "execution_count": null,
   "metadata": {},
   "outputs": [],
   "source": [
    "links = []\n",
    "for i in range(df_graph.shape[0]):\n",
    "    for j in range(df_graph.shape[1]):\n",
    "        val = df_graph.iloc[i,j]\n",
    "        if val > 0 and i != j:\n",
    "            links.append({\"source\": str(i), \"target\": str(j), \"value\": val})\n",
    "links"
   ]
  },
  {
   "cell_type": "code",
   "execution_count": null,
   "metadata": {},
   "outputs": [],
   "source": [
    "c = (\n",
    "    Graph(init_opts=opts.InitOpts(width=\"1000px\", height=\"600px\"))\n",
    "    .add(\n",
    "        \"\",\n",
    "        nodes=nodes,\n",
    "        links=links,\n",
    "        categories=categories,\n",
    "        is_focusnode = True, \n",
    "        layout=\"circular\", # force \n",
    "        #gravity = 0.2,\n",
    "        is_rotate_label=True,\n",
    "        linestyle_opts=opts.LineStyleOpts(color=\"source\", curve=0.3,\n",
    "                                         width=\"value\", opacity=0.5),\n",
    "        label_opts=opts.LabelOpts(position=\"right\"),\n",
    "    )\n",
    "    .set_global_opts(\n",
    "        title_opts=opts.TitleOpts(title=\"Graph user interactions (all tweets)\"),\n",
    "        legend_opts=opts.LegendOpts(orient=\"vertical\", pos_left=\"2%\", pos_top=\"20%\"),\n",
    "    )\n",
    "    .render(\"graph_all_tweets.html\")\n",
    "    #.render_notebook()\n",
    ")"
   ]
  },
  {
   "cell_type": "code",
   "execution_count": null,
   "metadata": {},
   "outputs": [],
   "source": [
    "# checks \n",
    "df_all[df_all['username']==\"WHO\"].shape"
   ]
  },
  {
   "cell_type": "code",
   "execution_count": null,
   "metadata": {},
   "outputs": [],
   "source": [
    "df_graph.loc[\"USDA\", \"FoodInsight\"]"
   ]
  },
  {
   "cell_type": "code",
   "execution_count": null,
   "metadata": {},
   "outputs": [],
   "source": []
  },
  {
   "cell_type": "code",
   "execution_count": null,
   "metadata": {},
   "outputs": [],
   "source": [
    "with open(\"les-miserables.json\", \"r\", encoding=\"utf-8\") as f:\n",
    "    j = json.load(f)\n",
    "    nodes = j[\"nodes\"]\n",
    "    links = j[\"links\"]\n",
    "    categories = j[\"categories\"]\n"
   ]
  },
  {
   "cell_type": "code",
   "execution_count": null,
   "metadata": {},
   "outputs": [],
   "source": [
    "from pyecharts.charts import Bar\n",
    "\n",
    "bar = (\n",
    "    Bar()\n",
    "    .add_xaxis([\"衬衫\", \"羊毛衫\", \"雪纺衫\", \"裤子\", \"高跟鞋\", \"袜子\"])\n",
    "    .add_yaxis(\"商家A\", [5, 20, 36, 10, 75, 90])\n",
    "    .set_global_opts(title_opts=opts.TitleOpts(title=\"主标题\", subtitle=\"副标题\"))\n",
    "    # 或者直接使用字典参数\n",
    "    # .set_global_opts(title_opts={\"text\": \"主标题\", \"subtext\": \"副标题\"})\n",
    ")\n",
    "bar.render_notebook()"
   ]
  }
 ],
 "metadata": {
  "colab": {
   "name": "analysis.ipynb",
   "provenance": [],
   "toc_visible": true
  },
  "hide_input": false,
  "kernelspec": {
   "display_name": "Python 3",
   "language": "python",
   "name": "python3"
  },
  "language_info": {
   "codemirror_mode": {
    "name": "ipython",
    "version": 3
   },
   "file_extension": ".py",
   "mimetype": "text/x-python",
   "name": "python",
   "nbconvert_exporter": "python",
   "pygments_lexer": "ipython3",
   "version": "3.7.6"
  },
  "latex_envs": {
   "LaTeX_envs_menu_present": true,
   "autoclose": false,
   "autocomplete": true,
   "bibliofile": "biblio.bib",
   "cite_by": "apalike",
   "current_citInitial": 1,
   "eqLabelWithNumbers": true,
   "eqNumInitial": 1,
   "hotkeys": {
    "equation": "Ctrl-E",
    "itemize": "Ctrl-I"
   },
   "labels_anchors": false,
   "latex_user_defs": false,
   "report_style_numbering": false,
   "user_envs_cfg": false
  },
  "toc": {
   "base_numbering": 1,
   "nav_menu": {
    "height": "212px",
    "width": "182.667px"
   },
   "number_sections": true,
   "sideBar": true,
   "skip_h1_title": false,
   "title_cell": "Table of Contents",
   "title_sidebar": "Contents",
   "toc_cell": false,
   "toc_position": {},
   "toc_section_display": true,
   "toc_window_display": false
  },
  "varInspector": {
   "cols": {
    "lenName": 16,
    "lenType": 16,
    "lenVar": 40
   },
   "kernels_config": {
    "python": {
     "delete_cmd_postfix": "",
     "delete_cmd_prefix": "del ",
     "library": "var_list.py",
     "varRefreshCmd": "print(var_dic_list())"
    },
    "r": {
     "delete_cmd_postfix": ") ",
     "delete_cmd_prefix": "rm(",
     "library": "var_list.r",
     "varRefreshCmd": "cat(var_dic_list()) "
    }
   },
   "types_to_exclude": [
    "module",
    "function",
    "builtin_function_or_method",
    "instance",
    "_Feature"
   ],
   "window_display": false
  }
 },
 "nbformat": 4,
 "nbformat_minor": 1
}
